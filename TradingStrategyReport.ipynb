{
 "cells": [
  {
   "cell_type": "markdown",
   "id": "70d6204c-4acc-42ae-ad39-571a29fd6e18",
   "metadata": {},
   "source": [
    "# Trading strategy report"
   ]
  },
  {
   "cell_type": "markdown",
   "id": "fc4c94c5",
   "metadata": {},
   "source": [
    "![purple-divider](resources/purple_divider.png)\n",
    "\n",
    "## Hands on! "
   ]
  },
  {
   "cell_type": "code",
   "execution_count": 39,
   "id": "05decc70-34b9-4d79-acc2-a1acc8aee0da",
   "metadata": {
    "jupyter": {
     "source_hidden": true
    },
    "tags": []
   },
   "outputs": [],
   "source": [
    "import pandas as pd\n",
    "from IPython.display import HTML\n",
    "from utils import compute_statistic\n",
    "from utils import add_cum_sum_column"
   ]
  },
  {
   "cell_type": "markdown",
   "id": "6f0a5154",
   "metadata": {},
   "source": [
    "![green-divider](resources/green_divider.png)\n",
    "\n",
    "## Loading data"
   ]
  },
  {
   "cell_type": "code",
   "execution_count": 40,
   "id": "1445bae2",
   "metadata": {},
   "outputs": [],
   "source": [
    "excel_file_path = \"data/backtest.xlsx\"\n",
    "\n",
    "base_info = pd.read_excel(excel_file_path, sheet_name=\"Base\")\n",
    "confluences = pd.read_excel(excel_file_path, sheet_name=\"Confluences\")\n",
    "entry_and_exit = pd.read_excel(excel_file_path, sheet_name=\"Entry&Exit\")\n",
    "markets = pd.read_excel(excel_file_path, sheet_name=\"Markets\")\n",
    "notes = pd.read_excel(excel_file_path, sheet_name=\"Notes\")\n",
    "\n",
    "trades = pd.read_excel(excel_file_path, sheet_name=\"Trades\")\n",
    "add_cum_sum_column(trades)"
   ]
  },
  {
   "cell_type": "markdown",
   "id": "db4d2e19",
   "metadata": {},
   "source": [
    "![green-divider](resources/green_divider.png)\n",
    "\n",
    "\n",
    "## The data at a glance"
   ]
  },
  {
   "cell_type": "code",
   "execution_count": 41,
   "id": "90557cc9",
   "metadata": {},
   "outputs": [
    {
     "data": {
      "text/html": [
       "<table border=\"1\" class=\"dataframe\">\n",
       "  <thead>\n",
       "    <tr style=\"text-align: right;\">\n",
       "      <th></th>\n",
       "      <th>Key</th>\n",
       "      <th>Value</th>\n",
       "    </tr>\n",
       "  </thead>\n",
       "  <tbody>\n",
       "    <tr>\n",
       "      <th>0</th>\n",
       "      <td>Name</td>\n",
       "      <td>Trend pull-back</td>\n",
       "    </tr>\n",
       "    <tr>\n",
       "      <th>1</th>\n",
       "      <td>Description</td>\n",
       "      <td>Trading strategy recognizing demand zone at candlestick up-trend and supply zone at candlestick down-trend, where we expecting price reaction. This strategy work on any liquidity and volatility market as stocks, forex, commodities, bonds and cryptocurrencies.</td>\n",
       "    </tr>\n",
       "    <tr>\n",
       "      <th>2</th>\n",
       "      <td>Preconditions</td>\n",
       "      <td>Liquidity, Volatility, Market in candle sticks trend</td>\n",
       "    </tr>\n",
       "    <tr>\n",
       "      <th>3</th>\n",
       "      <td>TradingStyle</td>\n",
       "      <td>Swing, Position</td>\n",
       "    </tr>\n",
       "    <tr>\n",
       "      <th>4</th>\n",
       "      <td>PublishDate</td>\n",
       "      <td>NaN</td>\n",
       "    </tr>\n",
       "    <tr>\n",
       "      <th>5</th>\n",
       "      <td>Version</td>\n",
       "      <td>1.0.0</td>\n",
       "    </tr>\n",
       "  </tbody>\n",
       "</table>"
      ],
      "text/plain": [
       "<IPython.core.display.HTML object>"
      ]
     },
     "execution_count": 41,
     "metadata": {},
     "output_type": "execute_result"
    }
   ],
   "source": [
    "HTML(base_info.to_html())"
   ]
  },
  {
   "cell_type": "code",
   "execution_count": 42,
   "id": "d2d990e3",
   "metadata": {},
   "outputs": [
    {
     "data": {
      "text/html": [
       "<table border=\"1\" class=\"dataframe\">\n",
       "  <thead>\n",
       "    <tr style=\"text-align: right;\">\n",
       "      <th></th>\n",
       "      <th>Confluence</th>\n",
       "      <th>Variant</th>\n",
       "      <th>Direction</th>\n",
       "    </tr>\n",
       "  </thead>\n",
       "  <tbody>\n",
       "    <tr>\n",
       "      <th>0</th>\n",
       "      <td>Candle stick up-trend (2 and more end candles)</td>\n",
       "      <td>A</td>\n",
       "      <td>LONG</td>\n",
       "    </tr>\n",
       "    <tr>\n",
       "      <th>1</th>\n",
       "      <td>Accumulation</td>\n",
       "      <td>A</td>\n",
       "      <td>LONG</td>\n",
       "    </tr>\n",
       "    <tr>\n",
       "      <th>2</th>\n",
       "      <td>Area of POC accumulation</td>\n",
       "      <td>A</td>\n",
       "      <td>LONG</td>\n",
       "    </tr>\n",
       "    <tr>\n",
       "      <th>3</th>\n",
       "      <td>Area of imbalance</td>\n",
       "      <td>A</td>\n",
       "      <td>LONG</td>\n",
       "    </tr>\n",
       "    <tr>\n",
       "      <th>4</th>\n",
       "      <td>Strong move from accumulation</td>\n",
       "      <td>A</td>\n",
       "      <td>LONG</td>\n",
       "    </tr>\n",
       "    <tr>\n",
       "      <th>5</th>\n",
       "      <td>Candle stick down-trend  (2 and more end candles)</td>\n",
       "      <td>A</td>\n",
       "      <td>SHORT</td>\n",
       "    </tr>\n",
       "    <tr>\n",
       "      <th>6</th>\n",
       "      <td>Distribution</td>\n",
       "      <td>A</td>\n",
       "      <td>SHORT</td>\n",
       "    </tr>\n",
       "    <tr>\n",
       "      <th>7</th>\n",
       "      <td>Area of POC distribution</td>\n",
       "      <td>A</td>\n",
       "      <td>SHORT</td>\n",
       "    </tr>\n",
       "    <tr>\n",
       "      <th>8</th>\n",
       "      <td>Area of imbalance</td>\n",
       "      <td>A</td>\n",
       "      <td>SHORT</td>\n",
       "    </tr>\n",
       "    <tr>\n",
       "      <th>9</th>\n",
       "      <td>Strong move from distribution</td>\n",
       "      <td>A</td>\n",
       "      <td>SHORT</td>\n",
       "    </tr>\n",
       "  </tbody>\n",
       "</table>"
      ],
      "text/plain": [
       "<IPython.core.display.HTML object>"
      ]
     },
     "execution_count": 42,
     "metadata": {},
     "output_type": "execute_result"
    }
   ],
   "source": [
    "HTML(confluences.to_html())"
   ]
  },
  {
   "cell_type": "code",
   "execution_count": 43,
   "id": "d40d4b1c",
   "metadata": {},
   "outputs": [
    {
     "data": {
      "text/html": [
       "<table border=\"1\" class=\"dataframe\">\n",
       "  <thead>\n",
       "    <tr style=\"text-align: right;\">\n",
       "      <th></th>\n",
       "      <th>Key</th>\n",
       "      <th>Value</th>\n",
       "    </tr>\n",
       "  </thead>\n",
       "  <tbody>\n",
       "    <tr>\n",
       "      <th>0</th>\n",
       "      <td>EntryPrice</td>\n",
       "      <td>Above POC from accumulation or below POC distribution</td>\n",
       "    </tr>\n",
       "    <tr>\n",
       "      <th>1</th>\n",
       "      <td>StopLossPrice</td>\n",
       "      <td>Out of volume (area pivot high/low or VAL accumulation/ VAH distribution)</td>\n",
       "    </tr>\n",
       "    <tr>\n",
       "      <th>2</th>\n",
       "      <td>ProfitTarget1</td>\n",
       "      <td>1:1 by Stop loss price</td>\n",
       "    </tr>\n",
       "    <tr>\n",
       "      <th>3</th>\n",
       "      <td>ProfitTarget2</td>\n",
       "      <td>Near first support/resistance (use only when risk reward ratio is 1:2 or bigger)</td>\n",
       "    </tr>\n",
       "  </tbody>\n",
       "</table>"
      ],
      "text/plain": [
       "<IPython.core.display.HTML object>"
      ]
     },
     "execution_count": 43,
     "metadata": {},
     "output_type": "execute_result"
    }
   ],
   "source": [
    "HTML(entry_and_exit.to_html())"
   ]
  },
  {
   "cell_type": "code",
   "execution_count": 44,
   "id": "7f1ea7cd",
   "metadata": {},
   "outputs": [
    {
     "data": {
      "text/html": [
       "<table border=\"1\" class=\"dataframe\">\n",
       "  <thead>\n",
       "    <tr style=\"text-align: right;\">\n",
       "      <th></th>\n",
       "      <th>Market</th>\n",
       "      <th>AssetClass</th>\n",
       "      <th>Ticker</th>\n",
       "      <th>Description</th>\n",
       "    </tr>\n",
       "  </thead>\n",
       "  <tbody>\n",
       "    <tr>\n",
       "      <th>0</th>\n",
       "      <td>Dollar index</td>\n",
       "      <td>Forex</td>\n",
       "      <td>DX</td>\n",
       "      <td>The U.S. Dollar Index is used to measure the value of the dollar against a basket of six foreign currencies: the euro, Swiss franc, Japanese yen, Canadian dollar, British pound, and Swedish krona</td>\n",
       "    </tr>\n",
       "    <tr>\n",
       "      <th>1</th>\n",
       "      <td>EURUSD</td>\n",
       "      <td>Forex</td>\n",
       "      <td>FXCM:EURUSD</td>\n",
       "      <td>EURUSD is the most traded currency pair in the world that takes about 30% of the total multi-billion dollar Forex turnover.</td>\n",
       "    </tr>\n",
       "    <tr>\n",
       "      <th>2</th>\n",
       "      <td>S&amp;P 500</td>\n",
       "      <td>Equities</td>\n",
       "      <td>ES</td>\n",
       "      <td>The S&amp;P 500 Index features 500 leading U.S. publicly traded companies, with a primary emphasis on market capitalization.</td>\n",
       "    </tr>\n",
       "    <tr>\n",
       "      <th>3</th>\n",
       "      <td>Nasdaq 100</td>\n",
       "      <td>Equities</td>\n",
       "      <td>NQ</td>\n",
       "      <td>The Nasdaq 100 Index is a basket of the 100 largest, most actively traded U.S companies listed on the Nasdaq stock exchange. The index includes companies from various industries except for the financial industry, like commercial and investment banks. These non-financial sectors include retail, biotechnology, industrial, technology, health care, and others.</td>\n",
       "    </tr>\n",
       "    <tr>\n",
       "      <th>4</th>\n",
       "      <td>Bitcoin</td>\n",
       "      <td>Cryptocurrencies</td>\n",
       "      <td>Bitstamp: BTCUSD</td>\n",
       "      <td>Bitcoin is a cryptocurrency, a virtual currency designed to act as money and a form of payment outside the control of any one person, group, or entity, and thus removing the need for third-party involvement in financial transactions. It is rewarded to blockchain miners for the work done to verify transactions and can be purchased on several exchanges.</td>\n",
       "    </tr>\n",
       "    <tr>\n",
       "      <th>5</th>\n",
       "      <td>Ethereum</td>\n",
       "      <td>Cryptocurrencies</td>\n",
       "      <td>Bitstamp: ETHUSD</td>\n",
       "      <td>ETHUSD,At its core, Ethereum is a decentralized global software platform powered by blockchain technology.</td>\n",
       "    </tr>\n",
       "    <tr>\n",
       "      <th>6</th>\n",
       "      <td>Gold</td>\n",
       "      <td>Commodities</td>\n",
       "      <td>GC</td>\n",
       "      <td>Gold is a yellow-toned precious metal used for jewelry, decoration, coinage, electrical contacts, medical procedures, and more.</td>\n",
       "    </tr>\n",
       "    <tr>\n",
       "      <th>7</th>\n",
       "      <td>Crude oil</td>\n",
       "      <td>Commodities</td>\n",
       "      <td>CL</td>\n",
       "      <td>Crude oil is a raw natural resource that is extracted from the earth and refined into products such as gasoline, jet fuel, and other petroleum products. Crude oil is a global commodity that trades in markets around the world, both as spot oil and via derivatives contracts. Many economists view crude oil as the single most important commodity in the world as it is currently the primary source of energy production.</td>\n",
       "    </tr>\n",
       "    <tr>\n",
       "      <th>8</th>\n",
       "      <td>Coffee</td>\n",
       "      <td>Commodities</td>\n",
       "      <td>KC</td>\n",
       "      <td>Coffee is a soft commodity derived from a plant that grows mostly in subtropical and tropical climates.</td>\n",
       "    </tr>\n",
       "    <tr>\n",
       "      <th>9</th>\n",
       "      <td>20+ year treasury bond</td>\n",
       "      <td>Bond</td>\n",
       "      <td>TLT</td>\n",
       "      <td>The iShares 20+ Year Treasury Bond ETF seeks to track the investment results of an index composed of U.S. Treasury bonds with remaining maturities greater than twenty years.</td>\n",
       "    </tr>\n",
       "  </tbody>\n",
       "</table>"
      ],
      "text/plain": [
       "<IPython.core.display.HTML object>"
      ]
     },
     "execution_count": 44,
     "metadata": {},
     "output_type": "execute_result"
    }
   ],
   "source": [
    "HTML(markets.to_html())"
   ]
  },
  {
   "cell_type": "code",
   "execution_count": 45,
   "id": "3a83e543",
   "metadata": {},
   "outputs": [
    {
     "data": {
      "text/html": [
       "<table border=\"1\" class=\"dataframe\">\n",
       "  <thead>\n",
       "    <tr style=\"text-align: right;\">\n",
       "      <th></th>\n",
       "      <th>Date</th>\n",
       "      <th>Asset</th>\n",
       "      <th>AssetClass</th>\n",
       "      <th>ConfluenceVariant</th>\n",
       "      <th>TimeFrame</th>\n",
       "      <th>Direction</th>\n",
       "      <th>StateProfitTarget1</th>\n",
       "      <th>StateProfitTarget2</th>\n",
       "      <th>Context</th>\n",
       "      <th>Detail</th>\n",
       "      <th>Control</th>\n",
       "      <th>Note</th>\n",
       "      <th>StateUSD</th>\n",
       "      <th>StateUSDCumSum</th>\n",
       "    </tr>\n",
       "  </thead>\n",
       "  <tbody>\n",
       "    <tr>\n",
       "      <th>0</th>\n",
       "      <td>8.7.2022</td>\n",
       "      <td>DX</td>\n",
       "      <td>Forex</td>\n",
       "      <td>A</td>\n",
       "      <td>3M</td>\n",
       "      <td>SHORT</td>\n",
       "      <td>PROFIT</td>\n",
       "      <td>NaN</td>\n",
       "      <td>https://www.tradingview.com/x/VZQutf4h/</td>\n",
       "      <td>https://www.tradingview.com/x/VZQutf4h/</td>\n",
       "      <td>https://www.tradingview.com/x/aN8lzACX/</td>\n",
       "      <td>Detail2: https://www.tradingview.com/x/t7jRizSj/</td>\n",
       "      <td>1.0</td>\n",
       "      <td>1.0</td>\n",
       "    </tr>\n",
       "    <tr>\n",
       "      <th>1</th>\n",
       "      <td>31.7.1981</td>\n",
       "      <td>EURUSD</td>\n",
       "      <td>Forex</td>\n",
       "      <td>A</td>\n",
       "      <td>Y</td>\n",
       "      <td>LONG</td>\n",
       "      <td>PROFIT</td>\n",
       "      <td>NaN</td>\n",
       "      <td>https://www.tradingview.com/x/mOgFKfwV/</td>\n",
       "      <td>https://www.tradingview.com/x/0rn7AXaV/</td>\n",
       "      <td>https://www.tradingview.com/x/vvKGltJj/</td>\n",
       "      <td>NaN</td>\n",
       "      <td>1.0</td>\n",
       "      <td>2.0</td>\n",
       "    </tr>\n",
       "    <tr>\n",
       "      <th>2</th>\n",
       "      <td>7.9.2000</td>\n",
       "      <td>EURUSD</td>\n",
       "      <td>Forex</td>\n",
       "      <td>A</td>\n",
       "      <td>3M</td>\n",
       "      <td>LONG</td>\n",
       "      <td>LOSS</td>\n",
       "      <td>NaN</td>\n",
       "      <td>https://www.tradingview.com/x/FgqlSeEt/</td>\n",
       "      <td>https://www.tradingview.com/x/EohWrwrs/</td>\n",
       "      <td>https://www.tradingview.com/x/fGBb9U7L/</td>\n",
       "      <td>Detail2: https://www.tradingview.com/x/h06QSyKk/</td>\n",
       "      <td>-1.0</td>\n",
       "      <td>1.0</td>\n",
       "    </tr>\n",
       "    <tr>\n",
       "      <th>3</th>\n",
       "      <td>23.8.2021</td>\n",
       "      <td>BTCUSD</td>\n",
       "      <td>Cryptocurrencies</td>\n",
       "      <td>A</td>\n",
       "      <td>W</td>\n",
       "      <td>SHORT</td>\n",
       "      <td>PROFIT</td>\n",
       "      <td>NaN</td>\n",
       "      <td>https://www.tradingview.com/x/5ljEKcBR/</td>\n",
       "      <td>https://www.tradingview.com/x/yLnOQ1NV/</td>\n",
       "      <td>https://www.tradingview.com/x/J392VJZZ/</td>\n",
       "      <td>NaN</td>\n",
       "      <td>1.0</td>\n",
       "      <td>2.0</td>\n",
       "    </tr>\n",
       "    <tr>\n",
       "      <th>4</th>\n",
       "      <td>19.7.2021</td>\n",
       "      <td>TLT</td>\n",
       "      <td>Bonds</td>\n",
       "      <td>A</td>\n",
       "      <td>M</td>\n",
       "      <td>SHORT</td>\n",
       "      <td>PROFIT</td>\n",
       "      <td>NaN</td>\n",
       "      <td>https://www.tradingview.com/x/OLDfg5Ew/</td>\n",
       "      <td>https://www.tradingview.com/x/VmpmAgPH/</td>\n",
       "      <td>https://www.tradingview.com/x/fPKCF7If/</td>\n",
       "      <td>NaN</td>\n",
       "      <td>1.0</td>\n",
       "      <td>3.0</td>\n",
       "    </tr>\n",
       "  </tbody>\n",
       "</table>"
      ],
      "text/plain": [
       "<IPython.core.display.HTML object>"
      ]
     },
     "execution_count": 45,
     "metadata": {},
     "output_type": "execute_result"
    }
   ],
   "source": [
    "HTML(trades.to_html())"
   ]
  },
  {
   "cell_type": "code",
   "execution_count": 46,
   "id": "afd95fc5",
   "metadata": {},
   "outputs": [
    {
     "data": {
      "text/html": [
       "<table border=\"1\" class=\"dataframe\">\n",
       "  <thead>\n",
       "    <tr style=\"text-align: right;\">\n",
       "      <th></th>\n",
       "      <th>Note</th>\n",
       "    </tr>\n",
       "  </thead>\n",
       "  <tbody>\n",
       "    <tr>\n",
       "      <th>0</th>\n",
       "      <td>When price reach 33% before entry price and price go profit then this trade is mark as early reaction and not entry to exchange. Exception when price reacted on edge accumulation/distribution.</td>\n",
       "    </tr>\n",
       "    <tr>\n",
       "      <th>1</th>\n",
       "      <td>Entry to trade is safe when price reacted on edge accumulation/distribution and price go with correction trend (can be used trend-line) before entry.</td>\n",
       "    </tr>\n",
       "  </tbody>\n",
       "</table>"
      ],
      "text/plain": [
       "<IPython.core.display.HTML object>"
      ]
     },
     "execution_count": 46,
     "metadata": {},
     "output_type": "execute_result"
    }
   ],
   "source": [
    "HTML(notes.to_html())"
   ]
  },
  {
   "cell_type": "markdown",
   "id": "8be55265-d95a-4dda-8870-cdba727e5048",
   "metadata": {
    "jp-MarkdownHeadingCollapsed": true,
    "tags": []
   },
   "source": [
    "![green-divider](resources/green_divider.png)\n",
    "\n",
    "## Statistics"
   ]
  },
  {
   "cell_type": "code",
   "execution_count": 47,
   "id": "7a0f3852",
   "metadata": {},
   "outputs": [
    {
     "data": {
      "text/html": [
       "<div>\n",
       "<style scoped>\n",
       "    .dataframe tbody tr th:only-of-type {\n",
       "        vertical-align: middle;\n",
       "    }\n",
       "\n",
       "    .dataframe tbody tr th {\n",
       "        vertical-align: top;\n",
       "    }\n",
       "\n",
       "    .dataframe thead th {\n",
       "        text-align: right;\n",
       "    }\n",
       "</style>\n",
       "<table border=\"1\" class=\"dataframe\">\n",
       "  <thead>\n",
       "    <tr style=\"text-align: right;\">\n",
       "      <th></th>\n",
       "      <th>Value</th>\n",
       "    </tr>\n",
       "  </thead>\n",
       "  <tbody>\n",
       "    <tr>\n",
       "      <th>TotalNumberOfTrades</th>\n",
       "      <td>5</td>\n",
       "    </tr>\n",
       "    <tr>\n",
       "      <th>CountProfitTrades</th>\n",
       "      <td>4</td>\n",
       "    </tr>\n",
       "    <tr>\n",
       "      <th>CountLossTrades</th>\n",
       "      <td>1</td>\n",
       "    </tr>\n",
       "    <tr>\n",
       "      <th>CountEarlyReactionTrades</th>\n",
       "      <td>0</td>\n",
       "    </tr>\n",
       "    <tr>\n",
       "      <th>Success</th>\n",
       "      <td>0.8</td>\n",
       "    </tr>\n",
       "    <tr>\n",
       "      <th>RiskRewardRatio</th>\n",
       "      <td>1:1</td>\n",
       "    </tr>\n",
       "    <tr>\n",
       "      <th>Expectation</th>\n",
       "      <td>0.6</td>\n",
       "    </tr>\n",
       "  </tbody>\n",
       "</table>\n",
       "</div>"
      ],
      "text/plain": [
       "                         Value\n",
       "TotalNumberOfTrades          5\n",
       "CountProfitTrades            4\n",
       "CountLossTrades              1\n",
       "CountEarlyReactionTrades     0\n",
       "Success                    0.8\n",
       "RiskRewardRatio            1:1\n",
       "Expectation                0.6"
      ]
     },
     "execution_count": 47,
     "metadata": {},
     "output_type": "execute_result"
    }
   ],
   "source": [
    "compute_statistic(trades)"
   ]
  },
  {
   "cell_type": "markdown",
   "id": "85829c9a",
   "metadata": {},
   "source": [
    "![green-divider](resources/green_divider.png)\n",
    "\n",
    "## Visualization"
   ]
  },
  {
   "cell_type": "markdown",
   "id": "e943541b",
   "metadata": {},
   "source": [
    "### Trades by state"
   ]
  },
  {
   "cell_type": "code",
   "execution_count": 48,
   "id": "0629d5ad",
   "metadata": {},
   "outputs": [
    {
     "data": {
      "text/plain": [
       "<AxesSubplot:ylabel='StateProfitTarget1'>"
      ]
     },
     "execution_count": 48,
     "metadata": {},
     "output_type": "execute_result"
    },
    {
     "data": {
      "image/png": "[encoded data removed]",
      "text/plain": [
       "<Figure size 500x500 with 1 Axes>"
      ]
     },
     "metadata": {},
     "output_type": "display_data"
    }
   ],
   "source": [
    "trades[\"StateProfitTarget1\"].value_counts().plot(kind=\"pie\", figsize=(5,5))"
   ]
  },
  {
   "cell_type": "markdown",
   "id": "c46eef9d",
   "metadata": {},
   "source": [
    "### Trades by Asset class"
   ]
  },
  {
   "cell_type": "code",
   "execution_count": 49,
   "id": "6cef9ed7",
   "metadata": {},
   "outputs": [
    {
     "data": {
      "text/plain": [
       "<AxesSubplot:ylabel='AssetClass'>"
      ]
     },
     "execution_count": 49,
     "metadata": {},
     "output_type": "execute_result"
    },
    {
     "data": {
      "image/png": "[encoded data removed]",
      "text/plain": [
       "<Figure size 500x500 with 1 Axes>"
      ]
     },
     "metadata": {},
     "output_type": "display_data"
    }
   ],
   "source": [
    "trades[\"AssetClass\"].value_counts().plot(kind=\"pie\", figsize=(5,5))"
   ]
  },
  {
   "cell_type": "markdown",
   "id": "cd5b576c",
   "metadata": {},
   "source": [
    "### Equity curve"
   ]
  },
  {
   "cell_type": "code",
   "execution_count": 50,
   "id": "ec373b66",
   "metadata": {},
   "outputs": [
    {
     "data": {
      "text/plain": [
       "<AxesSubplot:xlabel='Count trades', ylabel='USD'>"
      ]
     },
     "execution_count": 50,
     "metadata": {},
     "output_type": "execute_result"
    },
    {
     "data": {
      "image/png": "[encoded data removed]",
      "text/plain": [
       "<Figure size 700x700 with 1 Axes>"
      ]
     },
     "metadata": {},
     "output_type": "display_data"
    }
   ],
   "source": [
    "trades[\"StateUSDCumSum\"].plot(kind=\"line\", figsize=(7,7), xlabel=\"Count trades\", ylabel=\"USD\")"
   ]
  }
 ],
 "metadata": {
  "kernelspec": {
   "display_name": "Python 3.10.4 ('venv': venv)",
   "language": "python",
   "name": "python3"
  },
  "language_info": {
   "codemirror_mode": {
    "name": "ipython",
    "version": 3
   },
   "file_extension": ".py",
   "mimetype": "text/x-python",
   "name": "python",
   "nbconvert_exporter": "python",
   "pygments_lexer": "ipython3",
   "version": "3.10.4"
  },
  "vscode": {
   "interpreter": {
    "hash": "1bf11e280c63b5b7c012437a9f9765b13f27075d516b0addeefd516054ec434e"
   }
  }
 },
 "nbformat": 4,
 "nbformat_minor": 5
}
